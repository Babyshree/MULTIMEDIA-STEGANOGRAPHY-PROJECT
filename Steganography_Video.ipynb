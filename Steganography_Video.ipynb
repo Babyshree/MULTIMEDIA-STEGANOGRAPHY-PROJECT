{
 "cells": [
  {
   "cell_type": "code",
   "execution_count": null,
   "id": "d016f958",
   "metadata": {},
   "outputs": [],
   "source": [
    "\n",
    "from stegano import lsb\n",
    "from stegano.lsb import generators\n",
    "\n",
    "message = \"Secret Message \"\n",
    "hidden = lsb.hide(\n",
    "    \"image.jpg\",\n",
    "    message,\n",
    "    generators.eratosthenes(),\n",
    ")\n",
    "hidden.save(\"hidden_img.png\")\n"
   ]
  },
  {
   "cell_type": "code",
   "execution_count": null,
   "id": "fb1da070",
   "metadata": {},
   "outputs": [],
   "source": [
    "un_hidden=lsb.reveal(\"hidden_img.png\",generators.eratosthenes())\n",
    "print(un_hidden)"
   ]
  },
  {
   "cell_type": "code",
   "execution_count": null,
   "id": "20238d7d",
   "metadata": {},
   "outputs": [],
   "source": [
    "from PIL import Image\n",
    "\n",
    "# Path to the generated image\n",
    "image_path = \"hidden_img.png\"\n",
    "\n",
    "# Open the image\n",
    "img = Image.open(image_path)\n",
    "\n",
    "# Get basic properties\n",
    "width, height = img.size  # Dimensions of the image\n",
    "mode = img.mode  # Color mode (e.g., RGB, RGBA, L, etc.)\n",
    "format = img.format  # Image format (e.g., PNG, JPEG, BMP, etc.)\n",
    "\n",
    "# Print the properties\n",
    "print(\"Image Properties:\")\n",
    "print(f\"Dimensions: {width} x {height}\")\n",
    "print(f\"Color Mode: {mode}\")\n",
    "print(f\"Format: {format}\")\n"
   ]
  },
  {
   "cell_type": "code",
   "execution_count": null,
   "id": "8fbb2a07",
   "metadata": {},
   "outputs": [],
   "source": [
    "from PIL import Image\n",
    "\n",
    "# Path to the generated image\n",
    "image_path = \"image.jpg\"\n",
    "\n",
    "# Open the image\n",
    "img = Image.open(image_path)\n",
    "\n",
    "# Get basic properties\n",
    "width, height = img.size  # Dimensions of the image\n",
    "mode = img.mode  # Color mode (e.g., RGB, RGBA, L, etc.)\n",
    "format = img.format  # Image format (e.g., PNG, JPEG, BMP, etc.)\n",
    "\n",
    "# Print the properties\n",
    "print(\"Image Properties:\")\n",
    "print(f\"Dimensions: {width} x {height}\")\n",
    "print(f\"Color Mode: {mode}\")\n",
    "print(f\"Format: {format}\")\n"
   ]
  },
  {
   "cell_type": "code",
   "execution_count": null,
   "id": "b3ddf7ac",
   "metadata": {},
   "outputs": [],
   "source": []
  }
 ],
 "metadata": {
  "kernelspec": {
   "display_name": "Python 3 (ipykernel)",
   "language": "python",
   "name": "python3"
  },
  "language_info": {
   "codemirror_mode": {
    "name": "ipython",
    "version": 3
   },
   "file_extension": ".py",
   "mimetype": "text/x-python",
   "name": "python",
   "nbconvert_exporter": "python",
   "pygments_lexer": "ipython3",
   "version": "3.11.5"
  }
 },
 "nbformat": 4,
 "nbformat_minor": 5
}
