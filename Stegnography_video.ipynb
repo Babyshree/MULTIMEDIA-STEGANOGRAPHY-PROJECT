{
 "cells": [
  {
   "cell_type": "code",
   "execution_count": null,
   "id": "f99ec707",
   "metadata": {},
   "outputs": [],
   "source": [
    "from moviepy.editor import VideoFileClip, AudioFileClip, CompositeAudioClip\n",
    "\n",
    "# Load video and audio clips\n",
    "video_clip = VideoFileClip(\"video.mp4\")\n",
    "original_audio_clip = video_clip.audio\n",
    "secret_audio_clip = AudioFileClip(\"audio.mp3\")\n",
    "\n",
    "# Mute the original audio\n",
    "muted_secret_audio_clip = secret_audio_clip.volumex(0.0)\n",
    "\n",
    "# Combine muted original audio and secret audio for output video\n",
    "combined_audio_output = CompositeAudioClip([muted_secret_audio_clip, original_audio_clip])\n",
    "output_clip = video_clip.set_audio(combined_audio_output)\n",
    "output_clip.write_videofile(\"output_video_audio.mp4\", codec=\"libx264\")\n",
    "mute_original_audio_clip=original_audio_clip.volumex(0.0)\n",
    "# Combine original audio and secret audio for extracted video\n",
    "combined_audio_extracted = CompositeAudioClip([mute_original_audio_clip, secret_audio_clip])\n",
    "extracted_clip = video_clip.set_audio(combined_audio_extracted)\n",
    "extracted_clip.write_videofile(\"extracted_secret_audio.mp4\", codec=\"libx264\")\n"
   ]
  },
  {
   "cell_type": "code",
   "execution_count": null,
   "id": "a0613dd8",
   "metadata": {},
   "outputs": [],
   "source": []
  }
 ],
 "metadata": {
  "kernelspec": {
   "display_name": "Python 3 (ipykernel)",
   "language": "python",
   "name": "python3"
  },
  "language_info": {
   "codemirror_mode": {
    "name": "ipython",
    "version": 3
   },
   "file_extension": ".py",
   "mimetype": "text/x-python",
   "name": "python",
   "nbconvert_exporter": "python",
   "pygments_lexer": "ipython3",
   "version": "3.11.5"
  }
 },
 "nbformat": 4,
 "nbformat_minor": 5
}
